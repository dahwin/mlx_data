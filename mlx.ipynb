{
 "cells": [
  {
   "cell_type": "markdown",
   "id": "bddeecb9-c515-4235-a6c4-d12bb397c7c6",
   "metadata": {},
   "source": []
  },
  {
   "cell_type": "code",
   "execution_count": null,
   "id": "0209c436-c161-44e7-9cd2-ed1b0d8f6ad7",
   "metadata": {},
   "outputs": [],
   "source": [
    "from mlx_lm import load, generate\n",
    "\n",
    "model, tokenizer = load(\"mlx-community/phi-4-abliterated-3bit\")\n",
    "\n",
    "prompt=\"hello\"\n",
    "\n",
    "if hasattr(tokenizer, \"apply_chat_template\") and tokenizer.chat_template is not None:\n",
    "    messages = [{\"role\": \"user\", \"content\": prompt}]\n",
    "    prompt = tokenizer.apply_chat_template(\n",
    "        messages, tokenize=False, add_generation_prompt=True\n",
    "    )\n",
    "\n",
    "response = generate(model, tokenizer, prompt=prompt, verbose=True)\n"
   ]
  },
  {
   "cell_type": "code",
   "execution_count": null,
   "id": "3b282ca5",
   "metadata": {},
   "outputs": [
    {
     "name": "stderr",
     "output_type": "stream",
     "text": [
      "/Users/m1/Library/Python/3.9/lib/python/site-packages/urllib3/__init__.py:35: NotOpenSSLWarning: urllib3 v2 only supports OpenSSL 1.1.1+, currently the 'ssl' module is compiled with 'LibreSSL 2.8.3'. See: https://github.com/urllib3/urllib3/issues/3020\n",
      "  warnings.warn(\n",
      "/Users/m1/Library/Python/3.9/lib/python/site-packages/tqdm/auto.py:21: TqdmWarning: IProgress not found. Please update jupyter and ipywidgets. See https://ipywidgets.readthedocs.io/en/stable/user_install.html\n",
      "  from .autonotebook import tqdm as notebook_tqdm\n",
      "Fetching 9 files:   0%|                                                                                                                                                           | 0/9 [00:00<?, ?it/s]"
     ]
    }
   ],
   "source": [
    "from mlx_lm import load, stream_generate\n",
    "\n",
    "model_id = \"mlx-community/gemma-3-4b-pt-4bit\"\n",
    "#model_id = \"mlx-community/phi-4-abliterated-3bit\"\n",
    "model, tokenizer = load(model_id)"
   ]
  },
  {
   "cell_type": "code",
   "execution_count": null,
   "id": "e46a2cf2-85e7-482b-8f8f-f7041bb62e36",
   "metadata": {},
   "outputs": [],
   "source": [
    "prompt = \"who is kim dahyun?\"\n",
    "\n",
    "\n",
    "\n",
    "\n",
    "messages = [{\"role\": \"user\", \"content\": prompt}]\n",
    "prompt = tokenizer.apply_chat_template(\n",
    "    messages, add_generation_prompt=True\n",
    ")\n",
    "\n",
    "for response in stream_generate(model, tokenizer, prompt, max_tokens=512):\n",
    "    print(response.text, end=\"\", flush=True)\n",
    "print()\n"
   ]
  },
  {
   "cell_type": "code",
   "execution_count": null,
   "id": "25a0580b",
   "metadata": {},
   "outputs": [],
   "source": []
  },
  {
   "cell_type": "code",
   "execution_count": null,
   "id": "fb01cbb5-61e2-4a96-aeaa-9542413fe82c",
   "metadata": {},
   "outputs": [],
   "source": [
    "prompt = \"i didn't like kim dahyun become actress\"\n",
    "\n",
    "\n",
    "\n",
    "\n",
    "messages = [{\"role\": \"user\", \"content\": prompt}]\n",
    "prompt = tokenizer.apply_chat_template(\n",
    "    messages, add_generation_prompt=True\n",
    ")\n",
    "\n",
    "for response in stream_generate(model, tokenizer, prompt, max_tokens=512):\n",
    "    print(response.text, end=\"\", flush=True)\n",
    "print()\n"
   ]
  },
  {
   "cell_type": "code",
   "execution_count": null,
   "id": "8f4701ce",
   "metadata": {},
   "outputs": [],
   "source": []
  }
 ],
 "metadata": {
  "kernelspec": {
   "display_name": "Python 3",
   "language": "python",
   "name": "python3"
  },
  "language_info": {
   "codemirror_mode": {
    "name": "ipython",
    "version": 3
   },
   "file_extension": ".py",
   "mimetype": "text/x-python",
   "name": "python",
   "nbconvert_exporter": "python",
   "pygments_lexer": "ipython3",
   "version": "3.9.6"
  }
 },
 "nbformat": 4,
 "nbformat_minor": 5
}
